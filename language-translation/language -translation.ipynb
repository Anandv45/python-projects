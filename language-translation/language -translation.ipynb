{
 "cells": [
  {
   "cell_type": "code",
   "execution_count": 3,
   "id": "04b54036",
   "metadata": {},
   "outputs": [],
   "source": [
    " input_text = \"Die Weltgesundheitsorganisation (WHO) zählt Autismus zu den tiefgreifenden Entwicklungsstörungen. Durch eine angeborene veränderte Wahrnehmungs- und Informationsverarbeitung des Gehirns kommt es bei den Betroffenen entlang des Autismus-Spektrums zu stärkeren oder schwächeren Behinderungen und Beeinträchtigungen.Weitere Diskussionen in der CommunityAuf der Suche nach Antworten - Depressionen, Angststörung oder bin ich eine Asperger-Autistin?Wie kann ein Autismus bei m(einer) Partnerin diagnostiziert werden?Gibt es einen Asperger-Test?Autisten und ihre Besonderheitenund generell die Akzeptanz von Eigenarten, die dem Umfeld seltsam vorkommen mögen, sind ein guter Anfang zu einem verständnisvollen Umgang mit Menschen entlang des autistischen Spektrums.\""
   ]
  },
  {
   "cell_type": "code",
   "execution_count": 4,
   "id": "82704824",
   "metadata": {},
   "outputs": [
    {
     "name": "stdout",
     "output_type": "stream",
     "text": [
      "Translated to es: La Organización Mundial de la Salud (OMS) es uno de los profundos trastornos del desarrollo.Debido a una percepción congénita cambiada y procesamiento de información del cerebro, los afectados a lo largo del espectro autista conducen a discapacidades y impedimentos más fuertes o más débiles. ¿Se puede diagnosticar un autismo con M (uno) pareja? Las características y, en general, la aceptación de las peculiaridades que pueden ocurrir extrañamente al medio ambiente son un buen comienzo para comprender a las personas a lo largo del espectro autista.\n",
      "Translated to fr: L'Organisation mondiale de la santé (OMS) est l'un des troubles du développement profonds.En raison d'une perception congénitale modifiée et d'un traitement de l'information du cerveau, les personnes touchées le long du spectre de l'autisme conduisent à des handicaps et des déficiences plus forts ou plus faibles. Les caractéristiques et en général l'acceptation des particularités qui peuvent survenir étrangement à l'environnement sont un bon début pour comprendre les gens le long du spectre autistique.\n",
      "Translated to it: L'Organizzazione mondiale della sanità (OMS) è uno dei profondi disturbi dello sviluppo.A causa di una percezione mutata congenita e dell'elaborazione delle informazioni del cervello, le persone colpite lungo lo spettro autistico portano a disabilità e menomazioni più forti o più deboli. È possibile diagnosticare un partner M (uno)? Esiste un test Asperger? Autistica e il loro speciale Le caratteristiche e in generale l'accettazione di peculiarità che possono verificarsi stranamente all'ambiente sono un buon inizio per comprendere le persone lungo lo spettro autistico.\n"
     ]
    }
   ],
   "source": [
    "from googletrans import Translator\n",
    "\n",
    "def translate_text(text, target_language):\n",
    "    translator = Translator()\n",
    "    translated = translator.translate(text, src='de', dest=target_language)\n",
    "    return translated.text\n",
    "\n",
    "if __name__ == \"__main__\":\n",
    "    target_languages = [\"es\", \"fr\", \"it\"]  # Add more language codes as needed\n",
    "\n",
    "    for lang_code in target_languages:\n",
    "        translated_text = translate_text(input_text, lang_code)\n",
    "        print(f\"Translated to {lang_code}: {translated_text}\")\n"
   ]
  },
  {
   "cell_type": "code",
   "execution_count": 6,
   "id": "d8b44fd6",
   "metadata": {},
   "outputs": [
    {
     "name": "stdout",
     "output_type": "stream",
     "text": [
      "Translated to en: The World Health Organization (WHO) is one of the profound developmental disorders.Due to a congenital changed perception and information processing of the brain, those affected along the autism spectrum lead to stronger or weaker disabilities and impairments.Can an autism be diagnosed with m (one) partner? Is there an Asperger test? Autistic and their special features and in general the acceptance of peculiarities that may occur strangely to the environment are a good beginning for understanding people along the autistic spectrum.\n"
     ]
    }
   ],
   "source": [
    "input_text = \"Die Weltgesundheitsorganisation (WHO) zählt Autismus zu den tiefgreifenden Entwicklungsstörungen. Durch eine angeborene veränderte Wahrnehmungs- und Informationsverarbeitung des Gehirns kommt es bei den Betroffenen entlang des Autismus-Spektrums zu stärkeren oder schwächeren Behinderungen und Beeinträchtigungen.Weitere Diskussionen in der CommunityAuf der Suche nach Antworten - Depressionen, Angststörung oder bin ich eine Asperger-Autistin?Wie kann ein Autismus bei m(einer) Partnerin diagnostiziert werden?Gibt es einen Asperger-Test?Autisten und ihre Besonderheitenund generell die Akzeptanz von Eigenarten, die dem Umfeld seltsam vorkommen mögen, sind ein guter Anfang zu einem verständnisvollen Umgang mit Menschen entlang des autistischen Spektrums.\"\n",
    "\n",
    "\n",
    "def translate_text(text, target_language):\n",
    "    translator = Translator()\n",
    "    translated = translator.translate(text, src='de', dest=target_language)\n",
    "    return translated.text\n",
    "\n",
    "if __name__ == \"__main__\":\n",
    "    target_languages = [\"en\"]  # Add more language codes as needed\n",
    "\n",
    "    for lang_code in target_languages:\n",
    "        translated_text = translate_text(input_text, lang_code)\n",
    "        print(f\"Translated to {lang_code}: {translated_text}\")"
   ]
  },
  {
   "cell_type": "code",
   "execution_count": 7,
   "id": "16dba5ca",
   "metadata": {},
   "outputs": [
    {
     "name": "stdout",
     "output_type": "stream",
     "text": [
      "Translated to sw: Shirika la Afya Ulimwenguni (WHO) ni moja wapo ya shida kubwa ya maendeleo.Kwa sababu ya mtazamo wa kuzaliwa na usindikaji wa habari wa ubongo, wale walioathirika kwenye wigo wa ugonjwa wa akili husababisha ulemavu wenye nguvu au dhaifu. Vipengele na kwa ujumla kukubalika kwa sura za kipekee ambazo zinaweza kutokea kwa kushangaza kwa mazingira ni mwanzo mzuri wa kuelewa watu kwenye wigo wa autistic.\n",
      "Translated to zu: I-World Health Organisation (WHO) ingenye yeziphazamiso ezithuthukayo zokuthuthuka.Ngenxa yokuqonda okushintshiwe nokuguqulwa kolwazi lobuchopho, labo abathintekile ku-Autism Spectrum baholele ekukhubazekeni okunamandla noma okubuthakathaka nokukhubazeka. Ingabe kukhona ukuhlolwa kwe-asperger? Izici futhi ngokujwayelekile ukwamukelwa kwezinto ezihlukile ezingase zivele ngendlela emangalisayo emvelweni ziyisiqalo esihle sokuqonda abantu abasezingeni eliphakeme.\n",
      "Translated to ha: Hukumar Lafiya ta Duniya (WHO) tana daya daga cikin manyan rikice-rikicen haɓaka.Saboda wani tsinkaye na tsinkaye da sarrafa bayanan kwakwalwa da kuma aikin da suka shafi aismrum da ke haifar da haɗawa da M (wato mutum) da ke tattare da shi? Autperm da na musamman Fasali kuma gabaɗaya da yarda da peculiaritiaris wanda zai iya faruwa baƙon abu ga yanayin shine kyakkyawan kyakkyawan don fahimtar mutane tare da harkokin asirci.\n"
     ]
    }
   ],
   "source": [
    "input_text = \"Die Weltgesundheitsorganisation (WHO) zählt Autismus zu den tiefgreifenden Entwicklungsstörungen. Durch eine angeborene veränderte Wahrnehmungs- und Informationsverarbeitung des Gehirns kommt es bei den Betroffenen entlang des Autismus-Spektrums zu stärkeren oder schwächeren Behinderungen und Beeinträchtigungen.Weitere Diskussionen in der CommunityAuf der Suche nach Antworten - Depressionen, Angststörung oder bin ich eine Asperger-Autistin?Wie kann ein Autismus bei m(einer) Partnerin diagnostiziert werden?Gibt es einen Asperger-Test?Autisten und ihre Besonderheitenund generell die Akzeptanz von Eigenarten, die dem Umfeld seltsam vorkommen mögen, sind ein guter Anfang zu einem verständnisvollen Umgang mit Menschen entlang des autistischen Spektrums.\"\n",
    "\n",
    "\n",
    "def translate_text(text, target_language):\n",
    "    translator = Translator()\n",
    "    translated = translator.translate(text, src='de', dest=target_language)\n",
    "    return translated.text\n",
    "\n",
    "if __name__ == \"__main__\":\n",
    "    target_languages = [ \"sw\",\"zu\",\"ha\"]  # Add more language codes as needed\n",
    "\n",
    "    for lang_code in target_languages:\n",
    "        translated_text = translate_text(input_text, lang_code)\n",
    "        print(f\"Translated to {lang_code}: {translated_text}\")"
   ]
  },
  {
   "cell_type": "code",
   "execution_count": 10,
   "id": "37e2d27e",
   "metadata": {},
   "outputs": [],
   "source": [
    "input_text=\"The World Health Organization (WHO) is one of the profound developmental disorders.Due to a congenital changed perception and information processing of the brain, those affected along the autism spectrum lead to stronger or weaker disabilities and impairments.Can an autism be diagnosed with m (one) partner? Is there an Asperger test? Autistic and their special features and in general the acceptance of peculiarities that may occur strangely to the environment are a good beginning for understanding people along the autistic spectrum.\""
   ]
  },
  {
   "cell_type": "code",
   "execution_count": 11,
   "id": "2e18687d",
   "metadata": {},
   "outputs": [
    {
     "name": "stdout",
     "output_type": "stream",
     "text": [
      "Translated to sw: Shirika la Afya Ulimwenguni (WHO) ni moja wapo ya shida kubwa ya maendeleo. Kupata mtazamo wa kuzaliwa na usindikaji wa habari wa ubongo, wale walioathirika kwenye wigo wa ugonjwa wa akili husababisha ulemavu wenye nguvu au dhaifu na udhaifu.(moja) mwenzi?Je! Kuna mtihani wa Asperger?Autistic na sifa zao maalum na kwa ujumla kukubalika kwa sura za kipekee ambazo zinaweza kutokea kwa kushangaza kwa mazingira ni mwanzo mzuri wa kuelewa watu kwenye wigo wa autistic.\n",
      "Translated to zu: I-World Health Organisation (WHO) ingenye yeziphazamiso ezithuthukisiwe zokuthuthuka.Ukuthola ulwazi olushintshiwe lwengqondo kanye nolwazi oluthintekayo ekukhubazekeni okunamandla noma okubuthakathaka.Can autism kutholakale ukuthi ine-M(Omunye) umlingani?Ingabe kukhona ukuhlolwa kwe-asperger?Ama-autistic kanye nezici zabo ezikhethekile futhi ngokuvamile ukwamukelwa kwezinto ezihlukile ezingenzeka ngendlela emangalisayo emvelweni kuyisiqalo esihle sokuqonda abantu abasezingeni eliphezulu.\n",
      "Translated to ha: Hukumar Lafiya ta Duniya (WHO) tana daya daga cikin rikice-rikice na bunkasa kwakwalwa da kuma sarrafa bayanan da aka samu ga mawuyacin hali ko kuma masu rauni.(abokin tarayya) abokin tarayya?Shin gwajin Asperger?Autic da fasalin su na musamman kuma gabaɗaya da yarda da peculiarities wanda zai iya faruwa kyakkyawan tsari don fahimtar mutane tare da harkar harkokin waje.\n"
     ]
    }
   ],
   "source": [
    "def translate_text(text, target_language):\n",
    "    translator = Translator()\n",
    "    translated = translator.translate(text, src='en', dest=target_language)\n",
    "    return translated.text\n",
    "\n",
    "if __name__ == \"__main__\":\n",
    "    target_languages = [ \"sw\",\"zu\",\"ha\"]  # Add more language codes as needed\n",
    "\n",
    "    for lang_code in target_languages:\n",
    "        translated_text = translate_text(input_text, lang_code)\n",
    "        print(f\"Translated to {lang_code}: {translated_text}\")"
   ]
  },
  {
   "cell_type": "code",
   "execution_count": 2,
   "id": "83fddf6f",
   "metadata": {},
   "outputs": [],
   "source": [
    "input_text=\"The World Health Organization (WHO) is one of the profound developmental disorders.Due to a congenital changed perception and information processing of the brain, those affected along the autism spectrum lead to stronger or weaker disabilities and impairments.Can an autism be diagnosed with m (one) partner? Is there an Asperger test? Autistic and their special features and in general the acceptance of peculiarities that may occur strangely to the environment are a good beginning for understanding people along the autistic spectrum.\""
   ]
  },
  {
   "cell_type": "code",
   "execution_count": 3,
   "id": "c9850e77",
   "metadata": {},
   "outputs": [
    {
     "name": "stdout",
     "output_type": "stream",
     "text": [
      "Translated to es: QUERY LENGTH LIMIT EXCEEDED. MAX ALLOWED QUERY : 500 CHARS\n",
      "Translated to fr: QUERY LENGTH LIMIT EXCEEDED. MAX ALLOWED QUERY : 500 CHARS\n",
      "Translated to de: QUERY LENGTH LIMIT EXCEEDED. MAX ALLOWED QUERY : 500 CHARS\n"
     ]
    }
   ],
   "source": [
    "from translate import Translator\n",
    "\n",
    "def translate_text(text, target_language):\n",
    "    translator = Translator(to_lang=target_language)\n",
    "    translated = translator.translate(text)\n",
    "    return translated\n",
    "\n",
    "if __name__ == \"__main__\":\n",
    "    target_languages = [\"es\", \"fr\", \"de\"]  # Add more language codes as needed\n",
    "\n",
    "    for lang_code in target_languages:\n",
    "        translated_text = translate_text(input_text, lang_code)\n",
    "        print(f\"Translated to {lang_code}: {translated_text}\")\n"
   ]
  },
  {
   "cell_type": "code",
   "execution_count": 4,
   "id": "6014604b",
   "metadata": {},
   "outputs": [
    {
     "name": "stdout",
     "output_type": "stream",
     "text": [
      "Translated to es: La Organización Mundial de la Salud (OMS) es uno de los trastornos profundos del desarrollo. Debido a un cambio congénito en la percepción y el procesamiento de la información del cerebro, los afectados a lo largo del espectro del autismo conducen a discapacidades y deficiencias más fuertes o más débiles. ¿Se puede diagnosticar un autismo con mi (una) pareja? ¿Hay una prueba de Asperger? Autistas y sus características especiales y en general la aceptación de las peculiaridades que pueden ocurrir extrañamente al medio ambiente son un buen comienzo para entender g personas a lo largo del espectro autista.\n",
      "Translated to fr: L'Organisation mondiale de la santé (OMS) est l'un des troubles profonds du développement. En raison d'un changement congénital de la perception et du traitement de l'information du cerveau, les personnes touchées le long du spectre de l'autisme entraînent des handicaps et des déficiences plus ou moins forts. Un autisme peut-il être diagnostiqué avec un (e) partenaire ? Existe-t-il un test d'Asperger ? L'autisme et ses particularités et en général l'acceptation de particularités qui peuvent se produire étrangement dans l'environnement sont un bon début pour la compréhension g personnes le long du spectre autistique.\n",
      "Translated to de: Die Weltgesundheitsorganisation (WHO) ist eine der tiefgreifenden Entwicklungsstörungen. Aufgrund einer angeborenen veränderten Wahrnehmung und Informationsverarbeitung des Gehirns führen die Betroffenen entlang des Autismus-Spektrums zu stärkeren oder schwächeren Behinderungen und Beeinträchtigungen. Kann ein Autismus mit m (einem) Partner diagnostiziert werden? Gibt es einen Asperger-Test? Autistisch und ihre Besonderheiten und im Allgemeinen die Akzeptanz von Besonderheiten, die seltsam in der Umgebung auftreten können, sind ein guter Anfang für das Verständnis g Menschen entlang des autistischen Spektrums.\n"
     ]
    }
   ],
   "source": [
    "from translate import Translator\n",
    "\n",
    "def split_text(text, chunk_size):\n",
    "    return [text[i:i+chunk_size] for i in range(0, len(text), chunk_size)]\n",
    "\n",
    "def translate_text(text, target_language):\n",
    "    translator = Translator(to_lang=target_language)\n",
    "    translated_chunks = []\n",
    "\n",
    "    for chunk in split_text(text, 500):  # Split into chunks of 500 characters\n",
    "        translated = translator.translate(chunk)\n",
    "        translated_chunks.append(translated)\n",
    "\n",
    "    return \" \".join(translated_chunks)\n",
    "\n",
    "if __name__ == \"__main__\":\n",
    "    target_languages = [\"es\", \"fr\", \"de\"]  # Add more language codes as needed\n",
    "\n",
    "    for lang_code in target_languages:\n",
    "        translated_text = translate_text(input_text, lang_code)\n",
    "        print(f\"Translated to {lang_code}: {translated_text}\")\n"
   ]
  },
  {
   "cell_type": "code",
   "execution_count": 5,
   "id": "c29944a7",
   "metadata": {},
   "outputs": [
    {
     "name": "stdout",
     "output_type": "stream",
     "text": [
      "Translated to sw: Shirika la Afya Ulimwenguni (WHO) ni moja wapo ya shida kubwa za ukuaji. Kwa sababu ya mtazamo uliobadilika na usindikaji wa habari wa ubongo, wale walioathiriwa kwenye wigo wa tawahudi husababisha ulemavu na ulemavu wenye nguvu au dhaifu. Je, tawahudi inaweza kugunduliwa na mwenzi m (mmoja)? Je, kuna jaribio la Asperger? Tawahudi na sifa zake maalum na kwa ujumla kukubalika kwa upekee ambao unaweza kutokea kwa ajabu kwa mazingira ni mwanzo mzuri wa kuelewa watu kando ya wigo wa tawahudi.\n",
      "Translated to zu: I-World Health Organization (WHO) ingenye yezifo ezijulile zentuthuko. Ngenxa yombono oshintshiwe wokuzalwa nokucutshungulwa kwemininingwane yobuchopho, labo abathintekile emkhakheni we-autism baholela ekukhubazekeni nasekhubazekeni okunamandla noma okubuthakathaka. Ingabe i-autism ingatholakala inophathina we-m (oyedwa)? Ingabe likhona ithesti ye-Asperger? I-Autistic kanye nezici zayo ezikhethekile futhi ngokuvamile ukwamukelwa kwezinto ezikhethekile ezingase zenzeke ngendlela exakile emvelweni kuyisiqalo esihle sokuqonda g abantu abaku-autistic spectrum.\n",
      "Translated to ha: Hukumar Lafiya ta Duniya (WHO) tana daya daga cikin cututtukan ci gaba mai zurfi.Due zuwa fahimtar juna da kuma aiwatar da bayanai na kwakwalwa, waɗanda abin ya shafa tare da kewayon autism yana haifar da karfi ko raunana da nakasa.Can an autism za a gano tare da m (daya) abokin tarayya? Shin akwai gwajin Asperger? Autistic da siffofin su na musamman kuma a gaba ɗaya yarda da abubuwan ban mamaki waɗanda zasu iya faruwa baƙon abu ga yanayi sune kyakkyawan farawa don fahimta g mutane tare da autistic spectrum.\n"
     ]
    }
   ],
   "source": [
    "from translate import Translator\n",
    "\n",
    "def split_text(text, chunk_size):\n",
    "    return [text[i:i+chunk_size] for i in range(0, len(text), chunk_size)]\n",
    "\n",
    "def translate_text(text, target_language):\n",
    "    translator = Translator(to_lang=target_language)\n",
    "    translated_chunks = []\n",
    "\n",
    "    for chunk in split_text(text, 500):  # Split into chunks of 500 characters\n",
    "        translated = translator.translate(chunk)\n",
    "        translated_chunks.append(translated)\n",
    "\n",
    "    return \" \".join(translated_chunks)\n",
    "\n",
    "if __name__ == \"__main__\":\n",
    "    target_languages = [\"sw\",\"zu\",\"ha\"]  # Add more language codes as needed\n",
    "\n",
    "    for lang_code in target_languages:\n",
    "        translated_text = translate_text(input_text, lang_code)\n",
    "        print(f\"Translated to {lang_code}: {translated_text}\")\n"
   ]
  },
  {
   "cell_type": "code",
   "execution_count": 1,
   "id": "803f4810",
   "metadata": {},
   "outputs": [
    {
     "name": "stdout",
     "output_type": "stream",
     "text": [
      "Translated to en: Shirika la Afya Ulimwenguni (WHO) ni moja wapo ya shida kubwa za ukuaji. Kwa sababu ya mtazamo uliobadilika na usindikaji wa habari wa ubongo, wale walioathiriwa kwenye wigo wa tawahudi husababisha ulemavu na ulemavu wenye nguvu au dhaifu. Je, tawahudi inaweza kugunduliwa na mwenzi m (mmoja)? Je, kuna jaribio la Asperger? Tawahudi na sifa zake maalum na kwa ujumla kukubalika kwa upekee ambao unaweza kutokea kwa ajabu kwa mazingira ni mwanzo mzuri wa kuelewa watu kando ya wigo wa tawahudi.\n"
     ]
    }
   ],
   "source": [
    "input_text=\"Shirika la Afya Ulimwenguni (WHO) ni moja wapo ya shida kubwa za ukuaji. Kwa sababu ya mtazamo uliobadilika na usindikaji wa habari wa ubongo, wale walioathiriwa kwenye wigo wa tawahudi husababisha ulemavu na ulemavu wenye nguvu au dhaifu. Je, tawahudi inaweza kugunduliwa na mwenzi m (mmoja)? Je, kuna jaribio la Asperger? Tawahudi na sifa zake maalum na kwa ujumla kukubalika kwa upekee ambao unaweza kutokea kwa ajabu kwa mazingira ni mwanzo mzuri wa kuelewa watu kando ya wigo wa tawahudi.\"\n",
    "from translate import Translator\n",
    "\n",
    "def translate_text(text, target_language):\n",
    "    translator = Translator(to_lang=target_language)\n",
    "    translated = translator.translate(text)\n",
    "    return translated\n",
    "\n",
    "if __name__ == \"__main__\":\n",
    "    target_languages = [\"en\"]  # Add more language codes as needed\n",
    "\n",
    "    for lang_code in target_languages:\n",
    "        translated_text = translate_text(input_text, lang_code)\n",
    "        print(f\"Translated to {lang_code}: {translated_text}\")\n"
   ]
  },
  {
   "cell_type": "code",
   "execution_count": 2,
   "id": "e48b2e1c",
   "metadata": {},
   "outputs": [
    {
     "name": "stdout",
     "output_type": "stream",
     "text": [
      "Translated to en: The World Health Organization (WHO) is one of the major growth problems.Because of the changed perception and brain information processing, those affected on the Jewish scope cause a disability and a strong or weak disability.Can Tawabu be discovered by M (one) spouse?Is there an Asperger attempt?The Jewish and its special qualities and generally the unique acceptance of the environment is a good start to understand people beside the Tawabu base.\n"
     ]
    }
   ],
   "source": [
    "from googletrans import Translator\n",
    "def translate_text(text, target_language):\n",
    "    translator = Translator()\n",
    "    translated = translator.translate(text, src='sw', dest=target_language)\n",
    "    return translated.text\n",
    "\n",
    "if __name__ == \"__main__\":\n",
    "    target_languages = [\"en\"]  # Add more language codes as needed\n",
    "\n",
    "    for lang_code in target_languages:\n",
    "        translated_text = translate_text(input_text, lang_code)\n",
    "        print(f\"Translated to {lang_code}: {translated_text}\")"
   ]
  },
  {
   "cell_type": "code",
   "execution_count": null,
   "id": "aa9008be",
   "metadata": {},
   "outputs": [],
   "source": []
  }
 ],
 "metadata": {
  "kernelspec": {
   "display_name": "Python 3 (ipykernel)",
   "language": "python",
   "name": "python3"
  },
  "language_info": {
   "codemirror_mode": {
    "name": "ipython",
    "version": 3
   },
   "file_extension": ".py",
   "mimetype": "text/x-python",
   "name": "python",
   "nbconvert_exporter": "python",
   "pygments_lexer": "ipython3",
   "version": "3.9.12"
  }
 },
 "nbformat": 4,
 "nbformat_minor": 5
}
