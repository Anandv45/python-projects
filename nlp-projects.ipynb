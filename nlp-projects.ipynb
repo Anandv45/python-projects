{
 "cells": [
  {
   "cell_type": "code",
   "execution_count": null,
   "id": "76e0864d",
   "metadata": {},
   "outputs": [],
   "source": [
    "#spell check"
   ]
  },
  {
   "cell_type": "code",
   "execution_count": 1,
   "id": "8dfb5869",
   "metadata": {},
   "outputs": [
    {
     "name": "stdout",
     "output_type": "stream",
     "text": [
      "Your text with misspelled words goes here\n"
     ]
    }
   ],
   "source": [
    "from textblob import Word\n",
    "\n",
    "text = \"Yourr text with misspelled wrds goes here.\"\n",
    "corrected_text = \" \".join(Word(word).correct() for word in text.split())\n",
    "print(corrected_text)"
   ]
  },
  {
   "cell_type": "code",
   "execution_count": null,
   "id": "18d51b22",
   "metadata": {},
   "outputs": [],
   "source": [
    "#similarity"
   ]
  },
  {
   "cell_type": "code",
   "execution_count": 2,
   "id": "3e9584b9",
   "metadata": {},
   "outputs": [
    {
     "name": "stdout",
     "output_type": "stream",
     "text": [
      "Similarity Ratio: 67\n"
     ]
    },
    {
     "name": "stderr",
     "output_type": "stream",
     "text": [
      "C:\\Users\\HP\\anaconda3\\lib\\site-packages\\fuzzywuzzy\\fuzz.py:11: UserWarning: Using slow pure-python SequenceMatcher. Install python-Levenshtein to remove this warning\n",
      "  warnings.warn('Using slow pure-python SequenceMatcher. Install python-Levenshtein to remove this warning')\n"
     ]
    }
   ],
   "source": [
    "from fuzzywuzzy import fuzz\n",
    "\n",
    "text1 = \"This is a sample text for similarity calculation.\"\n",
    "text2 = \"Here is another text for similarity testing.\"\n",
    "\n",
    "similarity_ratio = fuzz.ratio(text1, text2)\n",
    "print(f\"Similarity Ratio: {similarity_ratio}\")"
   ]
  },
  {
   "cell_type": "code",
   "execution_count": null,
   "id": "a60e5713",
   "metadata": {},
   "outputs": [],
   "source": [
    "#language detection"
   ]
  },
  {
   "cell_type": "code",
   "execution_count": 3,
   "id": "4d887050",
   "metadata": {},
   "outputs": [
    {
     "name": "stdout",
     "output_type": "stream",
     "text": [
      "Detected language: ta\n"
     ]
    }
   ],
   "source": [
    "from langdetect import detect\n",
    "\n",
    "text = \"தமிழ்\" \n",
    "language = detect(text)\n",
    "print(\"Detected language:\", language)"
   ]
  },
  {
   "cell_type": "code",
   "execution_count": null,
   "id": "44e1ad79",
   "metadata": {},
   "outputs": [],
   "source": [
    "#word count"
   ]
  },
  {
   "cell_type": "code",
   "execution_count": 4,
   "id": "8ea89b57",
   "metadata": {},
   "outputs": [
    {
     "name": "stdout",
     "output_type": "stream",
     "text": [
      "Counter({'Your': 2, 'text': 2, 'input': 1, 'goes': 1, 'here': 1, 'Replace': 1, 'this': 1, 'with': 1})\n"
     ]
    }
   ],
   "source": [
    "from collections import Counter\n",
    "\n",
    "text = \"Your input text goes here Replace this with Your text\"\n",
    "word_counts = Counter(text.split())\n",
    "print(word_counts)"
   ]
  },
  {
   "cell_type": "code",
   "execution_count": null,
   "id": "f1c5ab81",
   "metadata": {},
   "outputs": [],
   "source": []
  }
 ],
 "metadata": {
  "kernelspec": {
   "display_name": "Python 3 (ipykernel)",
   "language": "python",
   "name": "python3"
  },
  "language_info": {
   "codemirror_mode": {
    "name": "ipython",
    "version": 3
   },
   "file_extension": ".py",
   "mimetype": "text/x-python",
   "name": "python",
   "nbconvert_exporter": "python",
   "pygments_lexer": "ipython3",
   "version": "3.9.12"
  }
 },
 "nbformat": 4,
 "nbformat_minor": 5
}
